{
 "cells": [
  {
   "cell_type": "code",
   "execution_count": null,
   "metadata": {},
   "outputs": [],
   "source": [
    "# This Python 3 environment comes with many helpful analytics libraries installed\n",
    "# It is defined by the kaggle/python docker image: https://github.com/kaggle/docker-python\n",
    "# For example, here's several helpful packages to load in \n",
    "\n",
    "import numpy as np # linear algebra\n",
    "import pandas as pd # data processing, CSV file I/O (e.g. pd.read_csv)\n",
    "\n",
    "# Input data files are available in the \"../input/\" directory.\n",
    "# For example, running this (by clicking run or pressing Shift+Enter) will list the files in the input directory\n",
    "\n",
    "import os\n",
    "print(os.listdir(\"C:/Users/Yatri Kalathia/Desktop/LTFS\"))"
   ]
  },
  {
   "cell_type": "code",
   "execution_count": null,
   "metadata": {},
   "outputs": [],
   "source": [
    "train = pd.read_csv('C:/Users/Yatri Kalathia/Desktop/LTFS/cleaned_data.csv')\n",
    "print(\"Shape of Train :\", train.shape)\n",
    "train.head()"
   ]
  },
  {
   "cell_type": "code",
   "execution_count": null,
   "metadata": {},
   "outputs": [],
   "source": [
    "train['manufacturer_id']=train['manufacturer_id'].astype(np.object)\n",
    "train['supplier_id']=train['supplier_id'].astype(np.object)\n",
    "train['branch_id']=train['branch_id'].astype(np.object)\n",
    "train['Current_pincode_ID']=train['Current_pincode_ID'].astype(np.object)\n",
    "train['Employment_Type']=train['Employment_Type'].astype(np.object)\n",
    "train['State_ID']=train['State_ID'].astype(np.object)\n",
    "train['Employee_code_ID']=train['Employee_code_ID'].astype(np.object)\n",
    "train['Aadhar_flag']=train['Aadhar_flag'].astype(np.object)\n",
    "train['PAN_flag']=train['PAN_flag'].astype(np.object)\n",
    "train['VoterID_flag']=train['VoterID_flag'].astype(np.object)\n",
    "train['Driving_flag']=train['Driving_flag'].astype(np.object)\n",
    "train['Aadhar_flag']=train['Aadhar_flag'].astype(np.object)\n",
    "train['Passport_flag']=train['Passport_flag'].astype(np.object)\n",
    "train['PERFORM_CNS_SCORE']=train['PERFORM_CNS_SCORE'].astype(np.object)\n",
    "train['PERFORM_CNS_SCORE_DESCRIPTION']=train['PERFORM_CNS_SCORE_DESCRIPTION'].astype(np.object)\n",
    "train['loan_default']=train['loan_default'].astype(np.object)"
   ]
  },
  {
   "cell_type": "code",
   "execution_count": null,
   "metadata": {},
   "outputs": [],
   "source": [
    "train.info()\n",
    "train.head()\n",
    "df = train.copy()"
   ]
  },
  {
   "cell_type": "code",
   "execution_count": null,
   "metadata": {},
   "outputs": [],
   "source": [
    "encoded_data = pd.get_dummies(df,prefix=['BI','SI','MI','CPID','ET','SID','ECID','AF','PF','VF','DF','PAF','PCS','PCSD','LD'],columns=['branch_id','supplier_id','manufacturer_id','Current_pincode_ID','Employment_Type','State_ID','Employee_code_ID','Aadhar_flag','PAN_flag','VoterID_flag','Driving_flag','Passport_flag','PERFORM_CNS_SCORE','PERFORM_CNS_SCORE_DESCRIPTION','loan_default'],drop_first=1) \n",
    "print(encoded_data.head())\n",
    "print(\"Done\")"
   ]
  }
 ],
 "metadata": {
  "kernelspec": {
   "display_name": "Python 3",
   "language": "python",
   "name": "python3"
  },
  "language_info": {
   "codemirror_mode": {
    "name": "ipython",
    "version": 3
   },
   "file_extension": ".py",
   "mimetype": "text/x-python",
   "name": "python",
   "nbconvert_exporter": "python",
   "pygments_lexer": "ipython3",
   "version": "3.7.1"
  }
 },
 "nbformat": 4,
 "nbformat_minor": 2
}
