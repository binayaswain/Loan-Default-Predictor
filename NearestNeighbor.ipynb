{
 "cells": [
  {
   "cell_type": "code",
   "execution_count": 5,
   "metadata": {},
   "outputs": [],
   "source": [
    "#Import necessary libraries\n",
    "import numpy as np\n",
    "import pandas as pd\n",
    "from sklearn.model_selection import KFold, cross_val_score\n",
    "from sklearn.model_selection import train_test_split\n",
    "from sklearn.metrics import confusion_matrix\n",
    "from sklearn.neighbors import KNeighborsClassifier\n",
    "from sklearn.model_selection import RandomizedSearchCV\n",
    "from sklearn.preprocessing import StandardScaler"
   ]
  },
  {
   "cell_type": "code",
   "execution_count": 2,
   "metadata": {},
   "outputs": [],
   "source": [
    "dataTypes = {\n",
    "    \"disbursed_amount\": np.float64,\n",
    "    \"asset_cost\": np.float64,\n",
    "    \"ltv\": np.float64,\n",
    "    \"branch_id\": np.object,\n",
    "    \"supplier_id\": np.object,\n",
    "    \"manufacturer_id\": np.object,\n",
    "    \"Current_pincode_ID\": np.object,\n",
    "    \"State_ID\": np.object,\n",
    "    \"Employee_code_ID\": np.object,\n",
    "    \"Aadhar_flag\": np.uint8,\n",
    "    \"PAN_flag\": np.uint8,\n",
    "    \"VoterID_flag\": np.uint8,\n",
    "    \"Driving_flag\": np.uint8,\n",
    "    \"PRI.NO.OF.ACCTS\": np.int64,\n",
    "    \"PRI.ACTIVE.ACCTS\": np.int64,\n",
    "    \"PRI.OVERDUE.ACCTS\": np.int64,\n",
    "    \"PRI.CURRENT.BALANCE \": np.float64,\n",
    "    \"PRI.SANCTIONED.AMOUNT\": np.float64,\n",
    "    \"PRI.DISBURSED.AMOUNT\": np.float64,\n",
    "    \"PRIMARY.INSTAL.AMT\": np.float64,\n",
    "    \"NEW.ACCTS.IN.LAST.SIX.MONTHS\": np.int64,\n",
    "    \"DELINQUENT.ACCTS.IN.LAST.SIX.MONTHS\": np.int64,\n",
    "    \"AVERAGE.ACCT.AGE\": np.int64,\n",
    "    \"CREDIT.HISTORY.LENGTH\": np.int64,\n",
    "    \"NO.OF_INQUIRIES\": np.uint8,\n",
    "    \"Sanctioned\": np.float64,\n",
    "    \"AgeAtDisbursal\": np.float64,\n",
    "    \"TOTAL.ACTIVE.ACCTS\": np.int64,\n",
    "    \"TOTAL.CURRENT.BALANCE\": np.float64,\n",
    "    \"TOTAL.DISBURSED.AMOUNT\": np.int64,\n",
    "    \"TOTAL.NO.OF.ACCTS\": np.int64,\n",
    "    \"TOTAL.OVERDUE.ACCTS\": np.int64,\n",
    "    \"TOTAL.CLEAN.ACCTS\": np.int64,\n",
    "    \"NO.OF.ACC.BF.SIX.MONTH\": np.int64,\n",
    "    \"OVERDUE.ACC.BF.SIX.MONTHS\": np.int64,\n",
    "    \"TOTAL.DEACTIVE.ACCTS\": np.int64,\n",
    "    \"TOTAL.INSTL.AMOUNT\": np.float64,\n",
    "    \"TOTAL.CLEARED.ACCTS\": np.int64,\n",
    "    \"Not_Scored\": np.uint8,\n",
    "    \"No_History\": np.uint8,\n",
    "    \"Very_Low_Risk\": np.uint8,\n",
    "    \"Low_Risk\": np.uint8,\n",
    "    \"Medium_Risk\": np.uint8,\n",
    "    \"Very_High_Risk\": np.uint8,\n",
    "    \"Employment.Type_Other\": np.uint8,\n",
    "    \"Employment.Type_Salaried\": np.uint8,\n",
    "    \"Employment.Type_Self employed\": np.uint8,\n",
    "    \"PERFORM_CNS.SCORE_0\": np.uint8,\n",
    "    \"PERFORM_CNS.SCORE_3\": np.uint8,\n",
    "    \"PERFORM_CNS.SCORE_4\": np.uint8,\n",
    "    \"PERFORM_CNS.SCORE_5\": np.uint8,\n",
    "    \"PERFORM_CNS.SCORE_6\": np.uint8,\n",
    "    \"PERFORM_CNS.SCORE_7\": np.uint8,\n",
    "    \"PERFORM_CNS.SCORE_8\": np.uint8\n",
    "}\n",
    "\n",
    "#Read the input CSV data set\n",
    "X_train = pd.read_csv(\"data/X_train.csv\", dtype=dataTypes)\n",
    "X_test = pd.read_csv(\"data/X_test.csv\", dtype=dataTypes)\n",
    "y_train = pd.read_csv(\"data/y_train.csv\")\n",
    "y_test = pd.read_csv(\"data/y_test.csv\")"
   ]
  },
  {
   "cell_type": "code",
   "execution_count": 3,
   "metadata": {},
   "outputs": [
    {
     "name": "stderr",
     "output_type": "stream",
     "text": [
      "c:\\applications\\python\\python37\\lib\\site-packages\\sklearn\\preprocessing\\data.py:625: DataConversionWarning: Data with input dtype uint8, int64, float64, object were all converted to float64 by StandardScaler.\n",
      "  return self.partial_fit(X, y)\n",
      "c:\\applications\\python\\python37\\lib\\site-packages\\ipykernel_launcher.py:4: DataConversionWarning: Data with input dtype uint8, int64, float64, object were all converted to float64 by StandardScaler.\n",
      "  after removing the cwd from sys.path.\n",
      "c:\\applications\\python\\python37\\lib\\site-packages\\ipykernel_launcher.py:5: DataConversionWarning: Data with input dtype uint8, int64, float64, object were all converted to float64 by StandardScaler.\n",
      "  \"\"\"\n"
     ]
    }
   ],
   "source": [
    "scaler = StandardScaler()  \n",
    "scaler.fit(X_train)\n",
    "\n",
    "X_train = scaler.transform(X_train)  \n",
    "X_test = scaler.transform(X_test) "
   ]
  },
  {
   "cell_type": "code",
   "execution_count": 11,
   "metadata": {},
   "outputs": [],
   "source": [
    "# Create the random grid\n",
    "random_grid = {'n_neighbors': [int(x) for x in np.linspace(start = 1, stop = 1000, num = 1000)],\n",
    "              'weights': [\"uniform\",\"distance\"]}"
   ]
  },
  {
   "cell_type": "code",
   "execution_count": null,
   "metadata": {},
   "outputs": [
    {
     "name": "stdout",
     "output_type": "stream",
     "text": [
      "Fitting 3 folds for each of 10 candidates, totalling 30 fits\n"
     ]
    },
    {
     "name": "stderr",
     "output_type": "stream",
     "text": [
      "[Parallel(n_jobs=-1)]: Using backend LokyBackend with 8 concurrent workers.\n"
     ]
    }
   ],
   "source": [
    "## This line instantiates the model. \n",
    "knn = KNeighborsClassifier()\n",
    "knn_random = RandomizedSearchCV(estimator=knn,\n",
    "                               param_distributions=random_grid,\n",
    "                               n_iter = 10,\n",
    "                               cv = 3,\n",
    "                               verbose=2,\n",
    "                               random_state=42,\n",
    "                               scoring='roc_auc',\n",
    "                               n_jobs=-1)\n",
    "\n",
    "## Fit the model on your training data.\n",
    "knn_random.fit(X_train, y_train.values.ravel()) \n",
    "knn_random.best_params_"
   ]
  },
  {
   "cell_type": "code",
   "execution_count": null,
   "metadata": {},
   "outputs": [],
   "source": [
    "knn_random.grid_scores_"
   ]
  },
  {
   "cell_type": "code",
   "execution_count": 6,
   "metadata": {},
   "outputs": [],
   "source": [
    "model = knn_random.best_estimator_\n",
    "predict_prob = model.predict_proba(X_test)\n",
    "roc_auc_score(y_test, predict_prob)"
   ]
  },
  {
   "cell_type": "code",
   "execution_count": null,
   "metadata": {},
   "outputs": [],
   "source": []
  }
 ],
 "metadata": {
  "kernelspec": {
   "display_name": "Python 3",
   "language": "python",
   "name": "python3"
  },
  "language_info": {
   "codemirror_mode": {
    "name": "ipython",
    "version": 3
   },
   "file_extension": ".py",
   "mimetype": "text/x-python",
   "name": "python",
   "nbconvert_exporter": "python",
   "pygments_lexer": "ipython3",
   "version": "3.7.2"
  }
 },
 "nbformat": 4,
 "nbformat_minor": 2
}
