{
 "cells": [
  {
   "cell_type": "code",
   "execution_count": 1,
   "metadata": {},
   "outputs": [],
   "source": [
    "#Import necessary libraries\n",
    "import numpy as np\n",
    "import pandas as pd\n",
    "from sklearn.metrics import roc_auc_score\n",
    "from sklearn.ensemble import RandomForestClassifier\n",
    "from sklearn.model_selection import RandomizedSearchCV"
   ]
  },
  {
   "cell_type": "code",
   "execution_count": 2,
   "metadata": {},
   "outputs": [],
   "source": [
    "dataTypes = {\n",
    "    \"disbursed_amount\": np.float64,\n",
    "    \"asset_cost\": np.float64,\n",
    "    \"ltv\": np.float64,\n",
    "    \"branch_id\": np.object,\n",
    "    \"supplier_id\": np.object,\n",
    "    \"manufacturer_id\": np.object,\n",
    "    \"Current_pincode_ID\": np.object,\n",
    "    \"State_ID\": np.object,\n",
    "    \"Employee_code_ID\": np.object,\n",
    "    \"Aadhar_flag\": np.uint8,\n",
    "    \"PAN_flag\": np.uint8,\n",
    "    \"VoterID_flag\": np.uint8,\n",
    "    \"Driving_flag\": np.uint8,\n",
    "    \"PRI.NO.OF.ACCTS\": np.int64,\n",
    "    \"PRI.ACTIVE.ACCTS\": np.int64,\n",
    "    \"PRI.OVERDUE.ACCTS\": np.int64,\n",
    "    \"PRI.CURRENT.BALANCE \": np.float64,\n",
    "    \"PRI.SANCTIONED.AMOUNT\": np.float64,\n",
    "    \"PRI.DISBURSED.AMOUNT\": np.float64,\n",
    "    \"PRIMARY.INSTAL.AMT\": np.float64,\n",
    "    \"NEW.ACCTS.IN.LAST.SIX.MONTHS\": np.int64,\n",
    "    \"DELINQUENT.ACCTS.IN.LAST.SIX.MONTHS\": np.int64,\n",
    "    \"AVERAGE.ACCT.AGE\": np.int64,\n",
    "    \"CREDIT.HISTORY.LENGTH\": np.int64,\n",
    "    \"NO.OF_INQUIRIES\": np.int64,\n",
    "    \"Sanctioned\": np.float64,\n",
    "    \"AgeAtDisbursal\": np.float64,\n",
    "    \"TOTAL.ACTIVE.ACCTS\": np.int64,\n",
    "    \"TOTAL.CURRENT.BALANCE\": np.float64,\n",
    "    \"TOTAL.DISBURSED.AMOUNT\": np.int64,\n",
    "    \"TOTAL.NO.OF.ACCTS\": np.int64,\n",
    "    \"TOTAL.OVERDUE.ACCTS\": np.int64,\n",
    "    \"TOTAL.CLEAN.ACCTS\": np.int64,\n",
    "    \"NO.OF.ACC.BF.SIX.MONTH\": np.int64,\n",
    "    \"OVERDUE.ACC.BF.SIX.MONTHS\": np.int64,\n",
    "    \"TOTAL.DEACTIVE.ACCTS\": np.int64,\n",
    "    \"TOTAL.INSTL.AMOUNT\": np.float64,\n",
    "    \"TOTAL.CLEARED.ACCTS\": np.int64,\n",
    "    \"Not_Scored\": np.uint8,\n",
    "    \"No_History\": np.uint8,\n",
    "    \"Very_Low_Risk\": np.uint8,\n",
    "    \"Low_Risk\": np.uint8,\n",
    "    \"Medium_Risk\": np.uint8,\n",
    "    \"Very_High_Risk\": np.uint8,\n",
    "    \"Employment.Type_Other\": np.uint8,\n",
    "    \"Employment.Type_Salaried\": np.uint8,\n",
    "    \"Employment.Type_Self employed\": np.uint8,\n",
    "    \"PERFORM_CNS.SCORE_0\": np.uint8,\n",
    "    \"PERFORM_CNS.SCORE_3\": np.uint8,\n",
    "    \"PERFORM_CNS.SCORE_4\": np.uint8,\n",
    "    \"PERFORM_CNS.SCORE_5\": np.uint8,\n",
    "    \"PERFORM_CNS.SCORE_6\": np.uint8,\n",
    "    \"PERFORM_CNS.SCORE_7\": np.uint8,\n",
    "    \"PERFORM_CNS.SCORE_8\": np.uint8\n",
    "}\n",
    "\n",
    "#Read the input CSV data set\n",
    "X_train = pd.read_csv(\"data/X_train.csv\", dtype=dataTypes)\n",
    "X_test = pd.read_csv(\"data/X_test.csv\", dtype=dataTypes)\n",
    "y_train = pd.read_csv(\"data/y_train.csv\")\n",
    "y_test = pd.read_csv(\"data/y_test.csv\")"
   ]
  },
  {
   "cell_type": "code",
   "execution_count": 3,
   "metadata": {},
   "outputs": [
    {
     "name": "stdout",
     "output_type": "stream",
     "text": [
      "{'n_estimators': [0, 20, 40, 60, 80, 101, 121, 141, 161, 181, 202, 222, 242, 262, 282, 303, 323, 343, 363, 383, 404, 424, 444, 464, 484, 505, 525, 545, 565, 585, 606, 626, 646, 666, 686, 707, 727, 747, 767, 787, 808, 828, 848, 868, 888, 909, 929, 949, 969, 989, 1010, 1030, 1050, 1070, 1090, 1111, 1131, 1151, 1171, 1191, 1212, 1232, 1252, 1272, 1292, 1313, 1333, 1353, 1373, 1393, 1414, 1434, 1454, 1474, 1494, 1515, 1535, 1555, 1575, 1595, 1616, 1636, 1656, 1676, 1696, 1717, 1737, 1757, 1777, 1797, 1818, 1838, 1858, 1878, 1898, 1919, 1939, 1959, 1979, 2000], 'max_features': ['auto', 'sqrt'], 'max_depth': [10, 20, 30, 40, 50, 60, 70, 80, 90, 100, 110, None], 'min_samples_split': [2, 5, 10], 'min_samples_leaf': [1, 2, 4, 6], 'bootstrap': [True, False], 'criterion': ['gini', 'entropy']}\n"
     ]
    }
   ],
   "source": [
    "# Maximum number of levels in tree\n",
    "max_depth = [int(x) for x in np.linspace(10, 110, num = 11)]\n",
    "max_depth.append(None)\n",
    "# Create the random grid\n",
    "random_grid = {'n_estimators': [int(x) for x in np.linspace(start = 0, stop = 2000, num = 100)],\n",
    "               'max_features': ['auto', 'sqrt'],\n",
    "               'max_depth': max_depth,\n",
    "               'min_samples_split': [2, 5, 10],\n",
    "               'min_samples_leaf': [1, 2, 4, 6],\n",
    "               'bootstrap': [True, False],\n",
    "               \"criterion\": [\"gini\", \"entropy\"]}\n",
    "print(random_grid)"
   ]
  },
  {
   "cell_type": "code",
   "execution_count": null,
   "metadata": {},
   "outputs": [
    {
     "name": "stdout",
     "output_type": "stream",
     "text": [
      "Fitting 3 folds for each of 10 candidates, totalling 30 fits\n",
      "[CV] n_estimators=1919, min_samples_split=5, min_samples_leaf=1, max_features=sqrt, max_depth=70, criterion=gini, bootstrap=True \n"
     ]
    },
    {
     "name": "stderr",
     "output_type": "stream",
     "text": [
      "[Parallel(n_jobs=1)]: Using backend SequentialBackend with 1 concurrent workers.\n"
     ]
    },
    {
     "name": "stdout",
     "output_type": "stream",
     "text": [
      "[CV]  n_estimators=1919, min_samples_split=5, min_samples_leaf=1, max_features=sqrt, max_depth=70, criterion=gini, bootstrap=True, total= 9.5min\n",
      "[CV] n_estimators=1919, min_samples_split=5, min_samples_leaf=1, max_features=sqrt, max_depth=70, criterion=gini, bootstrap=True \n"
     ]
    },
    {
     "name": "stderr",
     "output_type": "stream",
     "text": [
      "[Parallel(n_jobs=1)]: Done   1 out of   1 | elapsed: 10.5min remaining:    0.0s\n"
     ]
    },
    {
     "name": "stdout",
     "output_type": "stream",
     "text": [
      "[CV]  n_estimators=1919, min_samples_split=5, min_samples_leaf=1, max_features=sqrt, max_depth=70, criterion=gini, bootstrap=True, total=10.4min\n",
      "[CV] n_estimators=1919, min_samples_split=5, min_samples_leaf=1, max_features=sqrt, max_depth=70, criterion=gini, bootstrap=True \n",
      "[CV]  n_estimators=1919, min_samples_split=5, min_samples_leaf=1, max_features=sqrt, max_depth=70, criterion=gini, bootstrap=True, total=10.4min\n",
      "[CV] n_estimators=1212, min_samples_split=10, min_samples_leaf=4, max_features=auto, max_depth=10, criterion=gini, bootstrap=True \n",
      "[CV]  n_estimators=1212, min_samples_split=10, min_samples_leaf=4, max_features=auto, max_depth=10, criterion=gini, bootstrap=True, total= 3.3min\n",
      "[CV] n_estimators=1212, min_samples_split=10, min_samples_leaf=4, max_features=auto, max_depth=10, criterion=gini, bootstrap=True \n",
      "[CV]  n_estimators=1212, min_samples_split=10, min_samples_leaf=4, max_features=auto, max_depth=10, criterion=gini, bootstrap=True, total= 3.2min\n",
      "[CV] n_estimators=1212, min_samples_split=10, min_samples_leaf=4, max_features=auto, max_depth=10, criterion=gini, bootstrap=True \n",
      "[CV]  n_estimators=1212, min_samples_split=10, min_samples_leaf=4, max_features=auto, max_depth=10, criterion=gini, bootstrap=True, total= 3.1min\n",
      "[CV] n_estimators=1898, min_samples_split=5, min_samples_leaf=2, max_features=auto, max_depth=80, criterion=entropy, bootstrap=False \n",
      "[CV]  n_estimators=1898, min_samples_split=5, min_samples_leaf=2, max_features=auto, max_depth=80, criterion=entropy, bootstrap=False, total=20.5min\n",
      "[CV] n_estimators=1898, min_samples_split=5, min_samples_leaf=2, max_features=auto, max_depth=80, criterion=entropy, bootstrap=False \n",
      "[CV]  n_estimators=1898, min_samples_split=5, min_samples_leaf=2, max_features=auto, max_depth=80, criterion=entropy, bootstrap=False, total=20.0min\n",
      "[CV] n_estimators=1898, min_samples_split=5, min_samples_leaf=2, max_features=auto, max_depth=80, criterion=entropy, bootstrap=False \n",
      "[CV]  n_estimators=1898, min_samples_split=5, min_samples_leaf=2, max_features=auto, max_depth=80, criterion=entropy, bootstrap=False, total=20.1min\n",
      "[CV] n_estimators=1373, min_samples_split=5, min_samples_leaf=6, max_features=sqrt, max_depth=100, criterion=entropy, bootstrap=False \n",
      "[CV]  n_estimators=1373, min_samples_split=5, min_samples_leaf=6, max_features=sqrt, max_depth=100, criterion=entropy, bootstrap=False, total=35.4min\n",
      "[CV] n_estimators=1373, min_samples_split=5, min_samples_leaf=6, max_features=sqrt, max_depth=100, criterion=entropy, bootstrap=False \n",
      "[CV]  n_estimators=1373, min_samples_split=5, min_samples_leaf=6, max_features=sqrt, max_depth=100, criterion=entropy, bootstrap=False, total=12.2min\n",
      "[CV] n_estimators=1373, min_samples_split=5, min_samples_leaf=6, max_features=sqrt, max_depth=100, criterion=entropy, bootstrap=False \n",
      "[CV]  n_estimators=1373, min_samples_split=5, min_samples_leaf=6, max_features=sqrt, max_depth=100, criterion=entropy, bootstrap=False, total=11.4min\n",
      "[CV] n_estimators=404, min_samples_split=2, min_samples_leaf=1, max_features=auto, max_depth=90, criterion=gini, bootstrap=False \n",
      "[CV]  n_estimators=404, min_samples_split=2, min_samples_leaf=1, max_features=auto, max_depth=90, criterion=gini, bootstrap=False, total= 3.4min\n",
      "[CV] n_estimators=404, min_samples_split=2, min_samples_leaf=1, max_features=auto, max_depth=90, criterion=gini, bootstrap=False \n",
      "[CV]  n_estimators=404, min_samples_split=2, min_samples_leaf=1, max_features=auto, max_depth=90, criterion=gini, bootstrap=False, total= 3.4min\n",
      "[CV] n_estimators=404, min_samples_split=2, min_samples_leaf=1, max_features=auto, max_depth=90, criterion=gini, bootstrap=False \n",
      "[CV]  n_estimators=404, min_samples_split=2, min_samples_leaf=1, max_features=auto, max_depth=90, criterion=gini, bootstrap=False, total= 3.3min\n",
      "[CV] n_estimators=1737, min_samples_split=10, min_samples_leaf=4, max_features=sqrt, max_depth=110, criterion=entropy, bootstrap=True \n",
      "[CV]  n_estimators=1737, min_samples_split=10, min_samples_leaf=4, max_features=sqrt, max_depth=110, criterion=entropy, bootstrap=True, total=11.0min\n",
      "[CV] n_estimators=1737, min_samples_split=10, min_samples_leaf=4, max_features=sqrt, max_depth=110, criterion=entropy, bootstrap=True \n",
      "[CV]  n_estimators=1737, min_samples_split=10, min_samples_leaf=4, max_features=sqrt, max_depth=110, criterion=entropy, bootstrap=True, total=10.8min\n",
      "[CV] n_estimators=1737, min_samples_split=10, min_samples_leaf=4, max_features=sqrt, max_depth=110, criterion=entropy, bootstrap=True \n",
      "[CV]  n_estimators=1737, min_samples_split=10, min_samples_leaf=4, max_features=sqrt, max_depth=110, criterion=entropy, bootstrap=True, total=12.4min\n",
      "[CV] n_estimators=1313, min_samples_split=10, min_samples_leaf=1, max_features=sqrt, max_depth=30, criterion=gini, bootstrap=True \n",
      "[CV]  n_estimators=1313, min_samples_split=10, min_samples_leaf=1, max_features=sqrt, max_depth=30, criterion=gini, bootstrap=True, total= 8.4min\n",
      "[CV] n_estimators=1313, min_samples_split=10, min_samples_leaf=1, max_features=sqrt, max_depth=30, criterion=gini, bootstrap=True \n",
      "[CV]  n_estimators=1313, min_samples_split=10, min_samples_leaf=1, max_features=sqrt, max_depth=30, criterion=gini, bootstrap=True, total= 7.8min\n",
      "[CV] n_estimators=1313, min_samples_split=10, min_samples_leaf=1, max_features=sqrt, max_depth=30, criterion=gini, bootstrap=True \n",
      "[CV]  n_estimators=1313, min_samples_split=10, min_samples_leaf=1, max_features=sqrt, max_depth=30, criterion=gini, bootstrap=True, total= 7.6min\n",
      "[CV] n_estimators=1737, min_samples_split=5, min_samples_leaf=4, max_features=auto, max_depth=110, criterion=gini, bootstrap=False \n",
      "[CV]  n_estimators=1737, min_samples_split=5, min_samples_leaf=4, max_features=auto, max_depth=110, criterion=gini, bootstrap=False, total=13.4min\n",
      "[CV] n_estimators=1737, min_samples_split=5, min_samples_leaf=4, max_features=auto, max_depth=110, criterion=gini, bootstrap=False \n",
      "[CV]  n_estimators=1737, min_samples_split=5, min_samples_leaf=4, max_features=auto, max_depth=110, criterion=gini, bootstrap=False, total=37.6min\n",
      "[CV] n_estimators=1737, min_samples_split=5, min_samples_leaf=4, max_features=auto, max_depth=110, criterion=gini, bootstrap=False \n"
     ]
    }
   ],
   "source": [
    "## This line instantiates the model. \n",
    "rf = RandomForestClassifier() \n",
    "\n",
    "rf_random = RandomizedSearchCV(estimator=rf,\n",
    "                               param_distributions=random_grid,\n",
    "                               n_iter = 10,\n",
    "                               cv = 3,\n",
    "                               verbose=2,\n",
    "                               random_state=42,\n",
    "                               scoring='roc_auc',\n",
    "                               n_jobs=-1)\n",
    "\n",
    "## Fit the model on your training data.\n",
    "rf_random.fit(X_train, y_train.values.ravel()) \n",
    "rf_random.best_params_"
   ]
  },
  {
   "cell_type": "code",
   "execution_count": null,
   "metadata": {},
   "outputs": [],
   "source": [
    "rf_random.grid_scores_"
   ]
  },
  {
   "cell_type": "code",
   "execution_count": null,
   "metadata": {},
   "outputs": [],
   "source": [
    "model = rf_random.best_estimator_\n",
    "predict_prob = model.predict_proba(X_test)\n",
    "roc_auc_score(y_test, predict_prob)"
   ]
  }
 ],
 "metadata": {
  "kernelspec": {
   "display_name": "Python 3",
   "language": "python",
   "name": "python3"
  },
  "language_info": {
   "codemirror_mode": {
    "name": "ipython",
    "version": 3
   },
   "file_extension": ".py",
   "mimetype": "text/x-python",
   "name": "python",
   "nbconvert_exporter": "python",
   "pygments_lexer": "ipython3",
   "version": "3.7.2"
  }
 },
 "nbformat": 4,
 "nbformat_minor": 2
}
