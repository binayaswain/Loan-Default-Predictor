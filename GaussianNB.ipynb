{
 "cells": [
  {
   "cell_type": "code",
   "execution_count": 2,
   "metadata": {},
   "outputs": [],
   "source": [
    "import numpy as np\n",
    "import pandas as pd\n",
    "from sklearn.model_selection import train_test_split\n",
    "from sklearn.model_selection import KFold\n",
    "from sklearn.model_selection import cross_val_score\n",
    "from sklearn.metrics import confusion_matrix"
   ]
  },
  {
   "cell_type": "code",
   "execution_count": 3,
   "metadata": {},
   "outputs": [],
   "source": [
    "dataTypes = {\n",
    "    \"disbursed_amount\": np.float64,\n",
    "    \"asset_cost\": np.float64,\n",
    "    \"ltv\": np.float64,\n",
    "    \"branch_id\": np.object,\n",
    "    \"supplier_id\": np.object,\n",
    "    \"manufacturer_id\": np.object,\n",
    "    \"Current_pincode_ID\": np.object,\n",
    "    \"State_ID\": np.object,\n",
    "    \"Employee_code_ID\": np.object,\n",
    "    \"Aadhar_flag\": np.uint8,\n",
    "    \"PAN_flag\": np.uint8,\n",
    "    \"VoterID_flag\": np.uint8,\n",
    "    \"Driving_flag\": np.uint8,\n",
    "    \"PRI.NO.OF.ACCTS\": np.int64,\n",
    "    \"PRI.ACTIVE.ACCTS\": np.int64,\n",
    "    \"PRI.OVERDUE.ACCTS\": np.int64,\n",
    "    \"PRI.CURRENT.BALANCE \": np.float64,\n",
    "    \"PRI.SANCTIONED.AMOUNT\": np.float64,\n",
    "    \"PRI.DISBURSED.AMOUNT\": np.float64,\n",
    "    \"PRIMARY.INSTAL.AMT\": np.float64,\n",
    "    \"NEW.ACCTS.IN.LAST.SIX.MONTHS\": np.int64,\n",
    "    \"DELINQUENT.ACCTS.IN.LAST.SIX.MONTHS\": np.int64,\n",
    "    \"AVERAGE.ACCT.AGE\": np.int64,\n",
    "    \"CREDIT.HISTORY.LENGTH\": np.int64,\n",
    "    \"NO.OF_INQUIRIES\": np.int64,\n",
    "    \"Sanctioned\": np.float64,\n",
    "    \"AgeAtDisbursal\": np.float64,\n",
    "    \"TOTAL.ACTIVE.ACCTS\": np.int64,\n",
    "    \"TOTAL.CURRENT.BALANCE\": np.float64,\n",
    "    \"TOTAL.DISBURSED.AMOUNT\": np.int64,\n",
    "    \"TOTAL.NO.OF.ACCTS\": np.int64,\n",
    "    \"TOTAL.OVERDUE.ACCTS\": np.int64,\n",
    "    \"TOTAL.CLEAN.ACCTS\": np.int64,\n",
    "    \"NO.OF.ACC.BF.SIX.MONTH\": np.int64,\n",
    "    \"OVERDUE.ACC.BF.SIX.MONTHS\": np.int64,\n",
    "    \"TOTAL.DEACTIVE.ACCTS\": np.int64,\n",
    "    \"TOTAL.INSTL.AMOUNT\": np.float64,\n",
    "    \"TOTAL.CLEARED.ACCTS\": np.int64,\n",
    "    \"Not_Scored\": np.int32,\n",
    "    \"No_History\": np.int32,\n",
    "    \"Very_Low_Risk\": np.int32,\n",
    "    \"Low_Risk\": np.int32,\n",
    "    \"Medium_Risk\": np.int32,\n",
    "    \"Very_High_Risk\": np.int32,\n",
    "    \"Employment.Type_Other\": np.uint8,\n",
    "    \"Employment.Type_Salaried\": np.uint8,\n",
    "    \"Employment.Type_Self employed\": np.uint8,\n",
    "    \"PERFORM_CNS.SCORE_0\": np.uint8,\n",
    "    \"PERFORM_CNS.SCORE_3\": np.uint8,\n",
    "    \"PERFORM_CNS.SCORE_4\": np.uint8,\n",
    "    \"PERFORM_CNS.SCORE_5\": np.uint8,\n",
    "    \"PERFORM_CNS.SCORE_6\": np.uint8,\n",
    "    \"PERFORM_CNS.SCORE_7\": np.uint8,\n",
    "    \"PERFORM_CNS.SCORE_8\": np.uint8\n",
    "}\n",
    "\n",
    "#Read the input CSV data set\n",
    "X_train = pd.read_csv(\"data/X_train.csv\", dtype=dataTypes)\n",
    "X_test = pd.read_csv(\"data/X_test.csv\", dtype=dataTypes)\n",
    "y_train = pd.read_csv(\"data/y_train.csv\")\n",
    "y_test = pd.read_csv(\"data/y_test.csv\")"
   ]
  },
  {
   "cell_type": "code",
   "execution_count": 60,
   "metadata": {},
   "outputs": [
    {
     "name": "stdout",
     "output_type": "stream",
     "text": [
      "[[50438  4293]\n",
      " [13280  1936]]\n",
      "Mean ROC AUC (10-fold):  0.6018811670481743\n"
     ]
    }
   ],
   "source": [
    "from sklearn.naive_bayes import GaussianNB\n",
    "\n",
    "# Instantiate the classifier\n",
    "gnb = GaussianNB(priors=None, var_smoothing=10e-90)\n",
    "\n",
    "# Train classifier\n",
    "gnb.fit(X_train, y_train.values.ravel())\n",
    "\n",
    "y_pred = gnb.predict(X_test)\n",
    "\n",
    "cm = confusion_matrix(y_test.values.ravel(), y_pred)\n",
    "print(cm)\n",
    "\n",
    "#Applying 10-fold cross validation\n",
    "scores = cross_val_score(estimator=gnb, X = X_train, y=y_train.values.ravel(), cv=10, scoring='roc_auc')\n",
    "print(\"Mean ROC AUC (10-fold): \", np.mean(scores))"
   ]
  },
  {
   "cell_type": "code",
   "execution_count": 61,
   "metadata": {
    "scrolled": true
   },
   "outputs": [
    {
     "data": {
      "text/plain": [
       "array([0.60204421, 0.60490206, 0.59090541, 0.60965686, 0.60463466,\n",
       "       0.59498614, 0.60196694, 0.60747542, 0.59629732, 0.60594265])"
      ]
     },
     "execution_count": 61,
     "metadata": {},
     "output_type": "execute_result"
    }
   ],
   "source": [
    "scores"
   ]
  }
 ],
 "metadata": {
  "kernelspec": {
   "display_name": "Python 3",
   "language": "python",
   "name": "python3"
  },
  "language_info": {
   "codemirror_mode": {
    "name": "ipython",
    "version": 3
   },
   "file_extension": ".py",
   "mimetype": "text/x-python",
   "name": "python",
   "nbconvert_exporter": "python",
   "pygments_lexer": "ipython3",
   "version": "3.7.0"
  }
 },
 "nbformat": 4,
 "nbformat_minor": 2
}
