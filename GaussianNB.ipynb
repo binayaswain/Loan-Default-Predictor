{
 "cells": [
  {
   "cell_type": "code",
   "execution_count": 12,
   "metadata": {},
   "outputs": [],
   "source": [
    "import numpy as np\n",
    "import pandas as pd\n",
    "from sklearn.naive_bayes import GaussianNB\n",
    "from sklearn.metrics import roc_auc_score"
   ]
  },
  {
   "cell_type": "code",
   "execution_count": 13,
   "metadata": {},
   "outputs": [],
   "source": [
    "dataTypes = {\n",
    "    \"disbursed_amount\": np.float64,\n",
    "    \"asset_cost\": np.float64,\n",
    "    \"ltv\": np.float64,\n",
    "    \"branch_id\": np.object,\n",
    "    \"supplier_id\": np.object,\n",
    "    \"manufacturer_id\": np.object,\n",
    "    \"Current_pincode_ID\": np.object,\n",
    "    \"State_ID\": np.object,\n",
    "    \"Employee_code_ID\": np.object,\n",
    "    \"Aadhar_flag\": np.uint8,\n",
    "    \"PAN_flag\": np.uint8,\n",
    "    \"VoterID_flag\": np.uint8,\n",
    "    \"Driving_flag\": np.uint8,\n",
    "    \"PRI.NO.OF.ACCTS\": np.int64,\n",
    "    \"PRI.ACTIVE.ACCTS\": np.int64,\n",
    "    \"PRI.OVERDUE.ACCTS\": np.int64,\n",
    "    \"PRI.CURRENT.BALANCE \": np.float64,\n",
    "    \"PRI.SANCTIONED.AMOUNT\": np.float64,\n",
    "    \"PRI.DISBURSED.AMOUNT\": np.float64,\n",
    "    \"PRIMARY.INSTAL.AMT\": np.float64,\n",
    "    \"NEW.ACCTS.IN.LAST.SIX.MONTHS\": np.int64,\n",
    "    \"DELINQUENT.ACCTS.IN.LAST.SIX.MONTHS\": np.int64,\n",
    "    \"AVERAGE.ACCT.AGE\": np.int64,\n",
    "    \"CREDIT.HISTORY.LENGTH\": np.int64,\n",
    "    \"NO.OF_INQUIRIES\": np.int64,\n",
    "    \"Sanctioned\": np.float64,\n",
    "    \"AgeAtDisbursal\": np.float64,\n",
    "    \"TOTAL.ACTIVE.ACCTS\": np.int64,\n",
    "    \"TOTAL.CURRENT.BALANCE\": np.float64,\n",
    "    \"TOTAL.DISBURSED.AMOUNT\": np.int64,\n",
    "    \"TOTAL.NO.OF.ACCTS\": np.int64,\n",
    "    \"TOTAL.OVERDUE.ACCTS\": np.int64,\n",
    "    \"TOTAL.CLEAN.ACCTS\": np.int64,\n",
    "    \"NO.OF.ACC.BF.SIX.MONTH\": np.int64,\n",
    "    \"OVERDUE.ACC.BF.SIX.MONTHS\": np.int64,\n",
    "    \"TOTAL.DEACTIVE.ACCTS\": np.int64,\n",
    "    \"TOTAL.INSTL.AMOUNT\": np.float64,\n",
    "    \"TOTAL.CLEARED.ACCTS\": np.int64,\n",
    "    \"Not_Scored\": np.uint8,\n",
    "    \"No_History\": np.uint8,\n",
    "    \"Very_Low_Risk\": np.uint8,\n",
    "    \"Low_Risk\": np.uint8,\n",
    "    \"Medium_Risk\": np.uint8,\n",
    "    \"Very_High_Risk\": np.uint8,\n",
    "    \"Employment.Type_Other\": np.uint8,\n",
    "    \"Employment.Type_Salaried\": np.uint8,\n",
    "    \"Employment.Type_Self employed\": np.uint8,\n",
    "    \"PERFORM_CNS.SCORE_0\": np.uint8,\n",
    "    \"PERFORM_CNS.SCORE_3\": np.uint8,\n",
    "    \"PERFORM_CNS.SCORE_4\": np.uint8,\n",
    "    \"PERFORM_CNS.SCORE_5\": np.uint8,\n",
    "    \"PERFORM_CNS.SCORE_6\": np.uint8,\n",
    "    \"PERFORM_CNS.SCORE_7\": np.uint8,\n",
    "    \"PERFORM_CNS.SCORE_8\": np.uint8\n",
    "}\n",
    "\n",
    "#Read the input CSV data set\n",
    "X_train = pd.read_csv(\"data/X_train.csv\", dtype=dataTypes)\n",
    "X_test = pd.read_csv(\"data/X_test.csv\", dtype=dataTypes)\n",
    "y_train = pd.read_csv(\"data/y_train.csv\")\n",
    "y_test = pd.read_csv(\"data/y_test.csv\")"
   ]
  },
  {
   "cell_type": "code",
   "execution_count": 14,
   "metadata": {},
   "outputs": [],
   "source": [
    "# Instantiate the classifier\n",
    "gnb = GaussianNB(priors=None, var_smoothing=10e-90)\n",
    "\n",
    "# Train classifier\n",
    "gnb.fit(X_train, y_train.values.ravel())\n",
    "\n",
    "predict_prob = gnb.predict_proba(X_test)"
   ]
  },
  {
   "cell_type": "code",
   "execution_count": 15,
   "metadata": {},
   "outputs": [
    {
     "data": {
      "text/plain": [
       "0.6013170895282676"
      ]
     },
     "execution_count": 15,
     "metadata": {},
     "output_type": "execute_result"
    }
   ],
   "source": [
    "roc_auc_score(y_test, predict_prob[:,1])"
   ]
  },
  {
   "cell_type": "code",
   "execution_count": 17,
   "metadata": {},
   "outputs": [
    {
     "data": {
      "image/png": "[encoded data removed]",
      "text/plain": [
       "<Figure size 432x288 with 1 Axes>"
      ]
     },
     "metadata": {
      "needs_background": "light"
     },
     "output_type": "display_data"
    }
   ],
   "source": [
    "import sklearn.metrics as metrics\n",
    "# calculate the fpr and tpr for all thresholds of the classification\n",
    "probs = gnb.predict_proba(X_test)\n",
    "preds = probs[:,1]\n",
    "fpr, tpr, threshold = metrics.roc_curve(y_test, preds)\n",
    "roc_auc = metrics.auc(fpr, tpr)\n",
    "\n",
    "# method I: plt\n",
    "import matplotlib.pyplot as plt\n",
    "plt.title('Receiver Operating Characteristic')\n",
    "plt.plot(fpr, tpr, 'b', label = 'AUC = %0.2f' % roc_auc)\n",
    "plt.legend(loc = 'lower right')\n",
    "plt.plot([0, 1], [0, 1],'r--')\n",
    "plt.xlim([0, 1])\n",
    "plt.ylim([0, 1])\n",
    "plt.ylabel('True Positive Rate')\n",
    "plt.xlabel('False Positive Rate')\n",
    "plt.show()"
   ]
  },
  {
   "cell_type": "code",
   "execution_count": null,
   "metadata": {},
   "outputs": [],
   "source": []
  }
 ],
 "metadata": {
  "kernelspec": {
   "display_name": "Python 3",
   "language": "python",
   "name": "python3"
  },
  "language_info": {
   "codemirror_mode": {
    "name": "ipython",
    "version": 3
   },
   "file_extension": ".py",
   "mimetype": "text/x-python",
   "name": "python",
   "nbconvert_exporter": "python",
   "pygments_lexer": "ipython3",
   "version": "3.7.0"
  }
 },
 "nbformat": 4,
 "nbformat_minor": 2
}
